{
 "cells": [
  {
   "cell_type": "code",
   "execution_count": 1,
   "metadata": {},
   "outputs": [],
   "source": [
    "import nltk\n",
    "from nltk.stem.lancaster import LancasterStemmer\n",
    "import os\n",
    "import json\n",
    "import datetime\n",
    "import pandas as pd\n",
    "from soynlp.normalizer import *\n",
    "import numpy as np\n",
    "import time\n",
    "import re"
   ]
  },
  {
   "cell_type": "markdown",
   "metadata": {},
   "source": [
    "# Sad(label 1)"
   ]
  },
  {
   "cell_type": "code",
   "execution_count": 49,
   "metadata": {
    "scrolled": true
   },
   "outputs": [],
   "source": [
    "# sad = pd.read_csv(open(\"sad_english.csv\",encoding='utf-8'), engine='python') # label1\n",
    "\n",
    "sad1 = pd.read_csv(open(\"label1/1english_with_label.csv\",encoding='utf-8'), engine='python')\n",
    "sad2 = pd.read_csv(open(\"label1/2english_with_label.csv\",encoding='utf-8'), engine='python')\n",
    "sad3 = pd.read_csv(open(\"label1/3english_with_label.csv\",encoding='utf-8'), engine='python')\n",
    "sad = pd.concat([sad1, sad2, sad3], ignore_index=True)\n",
    "sad.to_csv(\"sad.csv\")"
   ]
  },
  {
   "cell_type": "markdown",
   "metadata": {},
   "source": [
    "# Tired(label 2)"
   ]
  },
  {
   "cell_type": "code",
   "execution_count": 50,
   "metadata": {},
   "outputs": [],
   "source": [
    "# tired = pd.read_csv(open(\"tired_english.csv\",encoding='utf-8'), engine='python') # label2\n",
    "\n",
    "tired1 = pd.read_csv(open(\"label2/101english_with_label.csv\",encoding='utf-8'), engine='python')\n",
    "tired2 = pd.read_csv(open(\"label2/102english_with_label.csv\",encoding='utf-8'), engine='python')\n",
    "tired3 = pd.read_csv(open(\"label2/103english_with_label.csv\",encoding='utf-8'), engine='python')\n",
    "tired = pd.concat([tired1, tired2, tired3], ignore_index=True)\n",
    "tired.to_csv(\"tired.csv\")"
   ]
  },
  {
   "cell_type": "markdown",
   "metadata": {},
   "source": [
    "# Fear(label 3)"
   ]
  },
  {
   "cell_type": "code",
   "execution_count": 51,
   "metadata": {},
   "outputs": [],
   "source": [
    "# fear = pd.read_csv(open(\"fear_english.csv\",encoding='utf-8'), engine='python') # label3\n",
    "\n",
    "fear1 = pd.read_csv(open(\"label3/201english_with_label.csv\",encoding='utf-8'), engine='python')\n",
    "fear2 = pd.read_csv(open(\"label3/202english_with_label.csv\",encoding='utf-8'), engine='python')\n",
    "fear3 = pd.read_csv(open(\"label3/203english_with_label.csv\",encoding='utf-8'), engine='python')\n",
    "fear = pd.concat([fear1, fear2, fear3], ignore_index=True)\n",
    "fear.to_csv(\"fear.csv\")"
   ]
  },
  {
   "cell_type": "markdown",
   "metadata": {},
   "source": [
    "# Happy(label 4)"
   ]
  },
  {
   "cell_type": "code",
   "execution_count": 52,
   "metadata": {},
   "outputs": [],
   "source": [
    "# happy = pd.read_csv(open(\"happy_english.csv\",encoding='utf-8'), engine='python') # label4\n",
    "\n",
    "happy1 = pd.read_csv(open(\"label4/301english_with_label.csv\",encoding='utf-8'), engine='python')\n",
    "happy2 = pd.read_csv(open(\"label4/302english_with_label.csv\",encoding='utf-8'), engine='python')\n",
    "happy3 = pd.read_csv(open(\"label4/303english_with_label.csv\",encoding='utf-8'), engine='python')\n",
    "happy = pd.concat([happy1, happy2, happy3], ignore_index=True)\n",
    "happy.to_csv(\"happy.csv\")"
   ]
  },
  {
   "cell_type": "markdown",
   "metadata": {},
   "source": [
    "# Angry(label 5)"
   ]
  },
  {
   "cell_type": "code",
   "execution_count": 54,
   "metadata": {},
   "outputs": [],
   "source": [
    "# angry = pd.read_csv(open(\"angry_english.csv\",encoding='utf-8'), engine='python') # label5\n",
    "\n",
    "angry1 = pd.read_csv(open(\"label5/401english_with_label.csv\",encoding='utf-8'), engine='python')\n",
    "angry2 = pd.read_csv(open(\"label5/402english_with_label.csv\",encoding='utf-8'), engine='python')\n",
    "angry3 = pd.read_csv(open(\"label5/403english_with_label.csv\",encoding='utf-8'), engine='python')\n",
    "angry = pd.concat([angry1, angry2, angry3], ignore_index=True)\n",
    "angry.to_csv(\"angry.csv\")"
   ]
  },
  {
   "cell_type": "markdown",
   "metadata": {},
   "source": [
    "# Entire"
   ]
  },
  {
   "cell_type": "code",
   "execution_count": 59,
   "metadata": {},
   "outputs": [],
   "source": [
    "sad = pd.read_csv(open(\"sad.csv\",encoding='utf-8'), engine='python')\n",
    "tired = pd.read_csv(open(\"tired.csv\",encoding='utf-8'), engine='python')\n",
    "fear = pd.read_csv(open(\"fear.csv\",encoding='utf-8'), engine='python')\n",
    "happy = pd.read_csv(open(\"happy.csv\",encoding='utf-8'), engine='python')\n",
    "angry = pd.read_csv(open(\"angry.csv\",encoding='utf-8'), engine='python')\n",
    "\n",
    "entire = pd.concat([sad, tired, fear, happy, angry], ignore_index=True)"
   ]
  },
  {
   "cell_type": "code",
   "execution_count": 73,
   "metadata": {},
   "outputs": [
    {
     "data": {
      "text/html": [
       "<div>\n",
       "<style scoped>\n",
       "    .dataframe tbody tr th:only-of-type {\n",
       "        vertical-align: middle;\n",
       "    }\n",
       "\n",
       "    .dataframe tbody tr th {\n",
       "        vertical-align: top;\n",
       "    }\n",
       "\n",
       "    .dataframe thead th {\n",
       "        text-align: right;\n",
       "    }\n",
       "</style>\n",
       "<table border=\"1\" class=\"dataframe\">\n",
       "  <thead>\n",
       "    <tr style=\"text-align: right;\">\n",
       "      <th></th>\n",
       "      <th>Unnamed: 0</th>\n",
       "      <th>Unnamed: 0.1</th>\n",
       "      <th>labels_text</th>\n",
       "      <th>tweet</th>\n",
       "    </tr>\n",
       "  </thead>\n",
       "  <tbody>\n",
       "    <tr>\n",
       "      <th>4495</th>\n",
       "      <td>895</td>\n",
       "      <td>295</td>\n",
       "      <td>__label__5</td>\n",
       "      <td>I have not had much money yet, but I do not ha...</td>\n",
       "    </tr>\n",
       "    <tr>\n",
       "      <th>4496</th>\n",
       "      <td>896</td>\n",
       "      <td>296</td>\n",
       "      <td>__label__5</td>\n",
       "      <td>I'll be doing it today, sir, I'll have to be a...</td>\n",
       "    </tr>\n",
       "    <tr>\n",
       "      <th>4497</th>\n",
       "      <td>897</td>\n",
       "      <td>297</td>\n",
       "      <td>__label__5</td>\n",
       "      <td>That's it! ㅋㅋ ㅋㅋㅋ ㅋㅋㅋ ㅋㅋㅋ ㅋㅋㅋ ㅋㅋㅋ ㅋㅋㅋ ㅋㅋㅋ ㅋㅋㅋ ...</td>\n",
       "    </tr>\n",
       "    <tr>\n",
       "      <th>4498</th>\n",
       "      <td>898</td>\n",
       "      <td>298</td>\n",
       "      <td>__label__5</td>\n",
       "      <td>This is because it is because of the fact that...</td>\n",
       "    </tr>\n",
       "    <tr>\n",
       "      <th>4499</th>\n",
       "      <td>899</td>\n",
       "      <td>299</td>\n",
       "      <td>__label__5</td>\n",
       "      <td>ㅋ ㅋ ㅋ ㅋ ㅋ ㅋ ㅋ ㅋ ㅋ ㅋ ㅋ ㅋ ㅋ ㅋ ㅋ ㅋ ㅋ ㅋ ㅋ ㅋ ㅋ ㅋ ㅋ ...</td>\n",
       "    </tr>\n",
       "  </tbody>\n",
       "</table>\n",
       "</div>"
      ],
      "text/plain": [
       "      Unnamed: 0  Unnamed: 0.1 labels_text  \\\n",
       "4495         895           295  __label__5   \n",
       "4496         896           296  __label__5   \n",
       "4497         897           297  __label__5   \n",
       "4498         898           298  __label__5   \n",
       "4499         899           299  __label__5   \n",
       "\n",
       "                                                  tweet  \n",
       "4495  I have not had much money yet, but I do not ha...  \n",
       "4496  I'll be doing it today, sir, I'll have to be a...  \n",
       "4497  That's it! ㅋㅋ ㅋㅋㅋ ㅋㅋㅋ ㅋㅋㅋ ㅋㅋㅋ ㅋㅋㅋ ㅋㅋㅋ ㅋㅋㅋ ㅋㅋㅋ ...  \n",
       "4498  This is because it is because of the fact that...  \n",
       "4499  ㅋ ㅋ ㅋ ㅋ ㅋ ㅋ ㅋ ㅋ ㅋ ㅋ ㅋ ㅋ ㅋ ㅋ ㅋ ㅋ ㅋ ㅋ ㅋ ㅋ ㅋ ㅋ ㅋ ...  "
      ]
     },
     "execution_count": 73,
     "metadata": {},
     "output_type": "execute_result"
    }
   ],
   "source": [
    "entire.tail()\n",
    "entire.to_csv(\"training_data3.csv\")"
   ]
  }
 ],
 "metadata": {
  "kernelspec": {
   "display_name": "Python 3",
   "language": "python",
   "name": "python3"
  },
  "language_info": {
   "codemirror_mode": {
    "name": "ipython",
    "version": 3
   },
   "file_extension": ".py",
   "mimetype": "text/x-python",
   "name": "python",
   "nbconvert_exporter": "python",
   "pygments_lexer": "ipython3",
   "version": "3.7.3"
  }
 },
 "nbformat": 4,
 "nbformat_minor": 2
}
