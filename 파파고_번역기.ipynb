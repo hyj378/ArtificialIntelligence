{
  "nbformat": 4,
  "nbformat_minor": 0,
  "metadata": {
    "colab": {
      "name": "파파고 번역기.ipynb",
      "version": "0.3.2",
      "provenance": [],
      "collapsed_sections": []
    },
    "kernelspec": {
      "name": "python3",
      "display_name": "Python 3"
    }
  },
  "cells": [
    {
      "cell_type": "code",
      "metadata": {
        "id": "od_7RDCbDyg4",
        "colab_type": "code",
        "outputId": "1c464eac-6fee-4a22-9b60-d9b0d591b267",
        "colab": {
          "base_uri": "https://localhost:8080/",
          "height": 111
        }
      },
      "source": [
        "pip install requests"
      ],
      "execution_count": 0,
      "outputs": [
        {
          "output_type": "stream",
          "text": [
            "Requirement already satisfied: requests in /usr/local/lib/python3.6/dist-packages (2.21.0)\n",
            "Requirement already satisfied: certifi>=2017.4.17 in /usr/local/lib/python3.6/dist-packages (from requests) (2019.3.9)\n",
            "Requirement already satisfied: urllib3<1.25,>=1.21.1 in /usr/local/lib/python3.6/dist-packages (from requests) (1.24.3)\n",
            "Requirement already satisfied: idna<2.9,>=2.5 in /usr/local/lib/python3.6/dist-packages (from requests) (2.8)\n",
            "Requirement already satisfied: chardet<3.1.0,>=3.0.2 in /usr/local/lib/python3.6/dist-packages (from requests) (3.0.4)\n"
          ],
          "name": "stdout"
        }
      ]
    },
    {
      "cell_type": "code",
      "metadata": {
        "id": "VZMxJWPTAH2T",
        "colab_type": "code",
        "colab": {}
      },
      "source": [
        "import requests\n",
        "import json\n",
        "import re"
      ],
      "execution_count": 0,
      "outputs": []
    },
    {
      "cell_type": "code",
      "metadata": {
        "id": "YZG1CVIlDWkz",
        "colab_type": "code",
        "colab": {}
      },
      "source": [
        "def ko_en_translater(text):\n",
        "  url=\"https://openapi.naver.com/v1/papago/n2mt?source=en&target=ko&text=\"\n",
        "\n",
        "  request_url = \"https://openapi.naver.com/v1/papago/n2mt\"\n",
        "  headers= {\"X-Naver-Client-Id\": \"E3Qm4KfmUlFJjFRsCuTf\", \"X-Naver-Client-Secret\":\"Qbj4Gdlgi2\"}\n",
        "  params = {\"source\": \"ko\", \"target\": \"en\", \"text\": text}\n",
        "  response = requests.post(request_url, headers=headers, data=params)\n",
        "  result = response.json()\n",
        "  result = result['message']['result']['translatedText']\n",
        "  \n",
        "  return result"
      ],
      "execution_count": 0,
      "outputs": []
    },
    {
      "cell_type": "code",
      "metadata": {
        "id": "r_Pzl3WJEJuM",
        "colab_type": "code",
        "outputId": "6ae2b90c-4ee1-4054-8ec2-84cc5c496f8b",
        "colab": {
          "base_uri": "https://localhost:8080/",
          "height": 36
        }
      },
      "source": [
        "ko_en_translater('@CHA_NNNNN เหนื่อยมากเลยอปป้า 힘 토도')"
      ],
      "execution_count": 0,
      "outputs": [
        {
          "output_type": "execute_result",
          "data": {
            "text/plain": [
              "'@CHA_NNNN เหนื่อยมากเลยอปป้า Force To Do'"
            ]
          },
          "metadata": {
            "tags": []
          },
          "execution_count": 4
        }
      ]
    },
    {
      "cell_type": "code",
      "metadata": {
        "id": "P_vApoFlGPFy",
        "colab_type": "code",
        "colab": {}
      },
      "source": [
        ""
      ],
      "execution_count": 0,
      "outputs": []
    }
  ]
}