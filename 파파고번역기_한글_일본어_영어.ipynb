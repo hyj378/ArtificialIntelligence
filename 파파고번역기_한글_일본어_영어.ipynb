{
  "nbformat": 4,
  "nbformat_minor": 0,
  "metadata": {
    "colab": {
      "name": "파파고 번역기_한글_일본어_영어",
      "version": "0.3.2",
      "provenance": [],
      "collapsed_sections": []
    },
    "kernelspec": {
      "name": "python3",
      "display_name": "Python 3"
    }
  },
  "cells": [
    {
      "cell_type": "code",
      "metadata": {
        "id": "od_7RDCbDyg4",
        "colab_type": "code",
        "outputId": "bc662527-c14c-49be-83d0-ea659d91d734",
        "colab": {
          "base_uri": "https://localhost:8080/",
          "height": 111
        }
      },
      "source": [
        "pip install requests"
      ],
      "execution_count": 0,
      "outputs": [
        {
          "output_type": "stream",
          "text": [
            "Requirement already satisfied: requests in /usr/local/lib/python3.6/dist-packages (2.21.0)\n",
            "Requirement already satisfied: certifi>=2017.4.17 in /usr/local/lib/python3.6/dist-packages (from requests) (2019.3.9)\n",
            "Requirement already satisfied: urllib3<1.25,>=1.21.1 in /usr/local/lib/python3.6/dist-packages (from requests) (1.24.3)\n",
            "Requirement already satisfied: idna<2.9,>=2.5 in /usr/local/lib/python3.6/dist-packages (from requests) (2.8)\n",
            "Requirement already satisfied: chardet<3.1.0,>=3.0.2 in /usr/local/lib/python3.6/dist-packages (from requests) (3.0.4)\n"
          ],
          "name": "stdout"
        }
      ]
    },
    {
      "cell_type": "code",
      "metadata": {
        "id": "VZMxJWPTAH2T",
        "colab_type": "code",
        "colab": {}
      },
      "source": [
        "import requests\n",
        "import json\n",
        "import re"
      ],
      "execution_count": 0,
      "outputs": []
    },
    {
      "cell_type": "code",
      "metadata": {
        "id": "YZG1CVIlDWkz",
        "colab_type": "code",
        "colab": {}
      },
      "source": [
        "def ko_en_translater(text):\n",
        "  url=\"https://openapi.naver.com/v1/papago/n2mt?source=en&target=ko&text=\"\n",
        "\n",
        "  request_url = \"https://openapi.naver.com/v1/papago/n2mt\"\n",
        "  headers= {\"X-Naver-Client-Id\": \"입력\", \"X-Naver-Client-Secret\":\"입력\"}\n",
        "  params = {\"source\": \"ko\", \"target\": \"en\", \"text\": text}\n",
        "  response = requests.post(request_url, headers=headers, data=params)\n",
        "  result = response.json()\n",
        "  result = result['message']['result']['translatedText']\n",
        "  \n",
        "  return result"
      ],
      "execution_count": 0,
      "outputs": []
    },
    {
      "cell_type": "code",
      "metadata": {
        "id": "r_Pzl3WJEJuM",
        "colab_type": "code",
        "colab": {}
      },
      "source": [
        "def ko_jp_translater(text):\n",
        "  url=\"https://openapi.naver.com/v1/papago/n2mt?source=en&target=ko&text=\"\n",
        "\n",
        "  request_url = \"https://openapi.naver.com/v1/papago/n2mt\"\n",
        "  headers= {\"X-Naver-Client-Id\": \"입력\", \"X-Naver-Client-Secret\":\"입력\"}\n",
        "  params = {\"source\": \"ko\", \"target\": \"ja\", \"text\": text}\n",
        "  response = requests.post(request_url, headers=headers, data=params)\n",
        "  result = response.json()\n",
        "  result = result['message']['result']['translatedText']\n",
        "  \n",
        "  return result"
      ],
      "execution_count": 0,
      "outputs": []
    },
    {
      "cell_type": "code",
      "metadata": {
        "id": "P_vApoFlGPFy",
        "colab_type": "code",
        "colab": {}
      },
      "source": [
        "def jp_en_translater(text):\n",
        "  url=\"https://openapi.naver.com/v1/papago/n2mt?source=en&target=ko&text=\"\n",
        "\n",
        "  request_url = \"https://openapi.naver.com/v1/papago/n2mt\"\n",
        "  headers= {\"X-Naver-Client-Id\": \"입력\", \"X-Naver-Client-Secret\":\"입력\"}\n",
        "  params = {\"source\": \"ja\", \"target\": \"en\", \"text\": text}\n",
        "  response = requests.post(request_url, headers=headers, data=params)\n",
        "  result = response.json()\n",
        "  result = result['message']['result']['translatedText']\n",
        "  \n",
        "  return result"
      ],
      "execution_count": 0,
      "outputs": []
    },
    {
      "cell_type": "code",
      "metadata": {
        "id": "hNlRo9tFWqAM",
        "colab_type": "code",
        "colab": {}
      },
      "source": [
        "def ko_jp_en_translater(text):\n",
        "  result = ko_jp_translater(text)\n",
        "  return jp_en_translater(result)"
      ],
      "execution_count": 0,
      "outputs": []
    },
    {
      "cell_type": "code",
      "metadata": {
        "id": "KNFGuFSUY4JZ",
        "colab_type": "code",
        "colab": {}
      },
      "source": [
        "data = '내 꿈은 내 분야에서 엄청나게 성공한 커리어우먼이 되는건데 어제 다큐3일보니깐 막막하다는 생각밖에 안들엇다 이러니..시집잘가라는 말에 설득당하지..아이고 여자가 성공하는건 아직도 드문 일인가 아무튼 난 꼭 성공하고싶다아'"
      ],
      "execution_count": 0,
      "outputs": []
    },
    {
      "cell_type": "code",
      "metadata": {
        "id": "IzaJBhiGW5gm",
        "colab_type": "code",
        "outputId": "d36c8a42-f4ee-4513-e814-8168dbac1772",
        "colab": {
          "base_uri": "https://localhost:8080/",
          "height": 56
        }
      },
      "source": [
        "jp_en_translater(ko_jp_translater(data))"
      ],
      "execution_count": 0,
      "outputs": [
        {
          "output_type": "execute_result",
          "data": {
            "text/plain": [
              "'My dream is to have a very successful career woman in my field, but yesterday, on the third day of the documentary, I only thought I wouldn\\'t see her.I\\'m convinced by the word \"marriage-sleep\" -- I\\'m a child and it\\'s still rare for a woman to succeed, but anyway, I want to be successful.Ah'"
            ]
          },
          "metadata": {
            "tags": []
          },
          "execution_count": 16
        }
      ]
    },
    {
      "cell_type": "code",
      "metadata": {
        "id": "WmvsQsEFYVbr",
        "colab_type": "code",
        "outputId": "36e27ec0-4a25-495e-9381-e6d57248e312",
        "colab": {
          "base_uri": "https://localhost:8080/",
          "height": 56
        }
      },
      "source": [
        "ko_en_translater(data)"
      ],
      "execution_count": 0,
      "outputs": [
        {
          "output_type": "execute_result",
          "data": {
            "text/plain": [
              "\"My dream is to be a successful careerwoman in my field, but I only heard that yesterday was the 3rd Daily.I'm persuaded to marry well... is it still rare for a girl to succeed, anyway, I really want to succeed.Ah.\""
            ]
          },
          "metadata": {
            "tags": []
          },
          "execution_count": 17
        }
      ]
    },
    {
      "cell_type": "code",
      "metadata": {
        "id": "U_YaExCsYjuf",
        "colab_type": "code",
        "colab": {}
      },
      "source": [
        ""
      ],
      "execution_count": 0,
      "outputs": []
    }
  ]
}
