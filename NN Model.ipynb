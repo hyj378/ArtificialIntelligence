{
 "cells": [
  {
   "cell_type": "markdown",
   "metadata": {},
   "source": [
    "# Neural Network Model [[참고사이트]](https://iamtrask.github.io//2015/07/12/basic-python-network/)"
   ]
  },
  {
   "cell_type": "markdown",
   "metadata": {},
   "source": [
    "## 1. training_data 생성\n",
    "* Stemming: 단어에서 접사 제거\n",
    "\n",
    "Stemming algorithm에서 가장 유명한 알고리즘은  \n",
    "Martin Porter의 **Porter stemming algorithm** 이다.  <br>\n",
    "이 알고리즘은 영어의 접미사를 제거한다. ex) cooking -> cook\n",
    "\n",
    "또 다른 알고리즘으로는 Lancaster 대학이 개발한 **Lancaster stemming algorithm**이다.  \n",
    "LancasterStemmer함수는 PorterStemmer와 비슷한데 성능이 더 좋다.\n",
    "\n",
    "우리는 여기서 LancasterStemmer함수를 사용했다."
   ]
  },
  {
   "cell_type": "code",
   "execution_count": 1,
   "metadata": {},
   "outputs": [],
   "source": [
    "import nltk\n",
    "from nltk.stem.lancaster import LancasterStemmer\n",
    "import os\n",
    "import json\n",
    "import datetime\n",
    "\n",
    "stemmer = LancasterStemmer()"
   ]
  },
  {
   "cell_type": "code",
   "execution_count": 2,
   "metadata": {},
   "outputs": [
    {
     "name": "stdout",
     "output_type": "stream",
     "text": [
      "12 sentences in training data\n"
     ]
    }
   ],
   "source": [
    "# Test: 3개의 class\n",
    "training_data = []\n",
    "training_data.append({\"class\":\"happy\", \"sentence\":\"how are you?\"})\n",
    "training_data.append({\"class\":\"happy\", \"sentence\":\"how is your day?\"})\n",
    "training_data.append({\"class\":\"happy\", \"sentence\":\"good day\"})\n",
    "training_data.append({\"class\":\"happy\", \"sentence\":\"how is it going today?\"})\n",
    "\n",
    "training_data.append({\"class\":\"sad\", \"sentence\":\"have a nice day\"})\n",
    "training_data.append({\"class\":\"sad\", \"sentence\":\"see you later\"})\n",
    "training_data.append({\"class\":\"sad\", \"sentence\":\"have a nice day\"})\n",
    "training_data.append({\"class\":\"sad\", \"sentence\":\"talk to you soon\"})\n",
    "\n",
    "training_data.append({\"class\":\"fear\", \"sentence\":\"make me a sandwich\"})\n",
    "training_data.append({\"class\":\"fear\", \"sentence\":\"can you make a sandwich?\"})\n",
    "training_data.append({\"class\":\"fear\", \"sentence\":\"having a sandwich today?\"})\n",
    "training_data.append({\"class\":\"fear\", \"sentence\":\"what's for lunch?\"})\n",
    "\n",
    "\n",
    "print (\"%s sentences in training data\" % len(training_data))"
   ]
  },
  {
   "cell_type": "markdown",
   "metadata": {},
   "source": [
    "## 2. words, classes, documents 만들기\n",
    "* words: 단어장. 문장을 토큰화하여 해당 결과물을 단어장에 저장\n",
    "* classes: 클래스. 여기 프로젝트에서는 classes 내용물이 **happy, sad, angry, tired, fear**로 구성\n",
    "* documents: 위의 training_data에서 문장들을 한군데에 저장\n",
    "* ignore_words: 무시할 단어"
   ]
  },
  {
   "cell_type": "code",
   "execution_count": 3,
   "metadata": {
    "scrolled": true
   },
   "outputs": [
    {
     "name": "stdout",
     "output_type": "stream",
     "text": [
      "12 documents\n",
      "3 classes ['fear', 'happy', 'sad']\n",
      "26 unique stemmed words ['mak', 'nic', 'what', 'ar', 'lat', 'day', 'to', 'hav', 'see', 'for', 'sandwich', 'is', 'it', 'me', 'how', 'going', 'today', 'a', 'good', \"'s\", 'can', 'lunch', 'yo', 'soon', 'you', 'talk']\n"
     ]
    },
    {
     "name": "stderr",
     "output_type": "stream",
     "text": [
      "[nltk_data] Downloading package punkt to\n",
      "[nltk_data]     C:\\Users\\김경남\\AppData\\Roaming\\nltk_data...\n",
      "[nltk_data]   Package punkt is already up-to-date!\n"
     ]
    }
   ],
   "source": [
    "import nltk\n",
    "nltk.download('punkt')\n",
    "\n",
    "words = [] # 단어 저장할 리스트\n",
    "classes = [] #class 저장할 리스트\n",
    "documents = [] # class + 단어 저장할 리스트\n",
    "ignore_words = ['?', '!'] # 무시할 단어\n",
    "\n",
    "for pattern in training_data:\n",
    "    # 문장 토큰화\n",
    "    w = nltk.word_tokenize(pattern['sentence'])\n",
    "    # words리스트에 토큰 추가\n",
    "    words.extend(w)\n",
    "    # documents리스트에 class값과 토큰 추가\n",
    "    documents.append((w, pattern['class']))\n",
    "    # classes리스트를 검사하여 현재 검사하고 있는 문장의 class가 리스트에 없으면 classes리스트에 추가\n",
    "    if pattern['class'] not in classes:\n",
    "        classes.append(pattern['class'])\n",
    "        \n",
    "# 무시할 단어인지 확인 후 대문자로 이루어진 단어는 소문자로 변경\n",
    "words = [stemmer.stem(w.lower()) for w in words if w not in ignore_words]\n",
    "# words리스트에서 중복 제거\n",
    "words = list(set(words)) \n",
    "\n",
    "# classes 리스트에서 중복 제거\n",
    "classes = list(set(classes))\n",
    "\n",
    "print (len(documents), \"documents\")\n",
    "print (len(classes), \"classes\", classes)\n",
    "print (len(words), \"unique stemmed words\", words)"
   ]
  },
  {
   "cell_type": "markdown",
   "metadata": {},
   "source": [
    "## 3. 모델 제작\n",
    "**2개의 layer로 구성된 Neural Network 구성**  \n",
    "1. numpy: 행렬 곱셈 이용\n",
    "2. sigmoid함수: 오차 측정을 최소한으로 줄여 예측값을 더욱 정확하게 조정\n",
    "3. 입력 문장들을 단어별로 0과 1로 변형\n",
    "\n",
    "\n",
    "### 참고\n",
    "* **Bow**: Bag-of-words. 글에 어떠한 단어가 있는지 수치로 나타내는 방법"
   ]
  },
  {
   "cell_type": "code",
   "execution_count": 5,
   "metadata": {},
   "outputs": [],
   "source": [
    "import numpy as np\n",
    "import time\n",
    "\n",
    "# sigmoid를 사용하기 위해 함수 선언\n",
    "def sigmoid(x):\n",
    "    output = 1/(1+np.exp(-x))\n",
    "    return output\n",
    "\n",
    "# 결과값에 \n",
    "def sigmoid_output_to_derivative(output):\n",
    "    return output*(1-output)\n",
    "\n",
    "# 문장 토큰화 및 stem화\n",
    "def clean_up_sentence(sentence):\n",
    "    # tokenize화\n",
    "    sentence_words = nltk.word_tokenize(sentence)\n",
    "    # 단어 stem화\n",
    "    sentence_words = [stemmer.stem(word.lower()) for word in sentence_words]\n",
    "    return sentence_words\n",
    "\n",
    "# bow값 반환: 문장에 해당 단어가 있으면 1 반환, 아니면 0 반환\n",
    "def bow(sentence, words, show_details=False):\n",
    "    # clean_up_sentence()를 사용하여 문장 토큰화 및 stem화\n",
    "    sentence_words = clean_up_sentence(sentence)\n",
    "    # bow 제작\n",
    "    bag = [0]*len(words)  \n",
    "    for s in sentence_words:\n",
    "        for i,w in enumerate(words):\n",
    "            if w == s: \n",
    "                bag[i] = 1\n",
    "                if show_details:\n",
    "                    print (\"found in bag: %s\" % w)\n",
    "\n",
    "    return(np.array(bag))\n",
    "\n",
    "\n",
    "def think(sentence, show_details=False):\n",
    "    x = bow(sentence.lower(), words, show_details)\n",
    "    if show_details:\n",
    "        print (\"sentence:\", sentence, \"\\n bow:\", x)\n",
    "    # layer0: 입력값들은 words\n",
    "    l0 = x\n",
    "    # layer1: layer0과 synapse0 행렬곱\n",
    "    l1 = sigmoid(np.dot(l0, synapse_0))\n",
    "    # layer2: layer1과 synapse1 행렬곱 이후 리턴\n",
    "    l2 = sigmoid(np.dot(l1, synapse_1))\n",
    "    return l2"
   ]
  },
  {
   "cell_type": "code",
   "execution_count": 6,
   "metadata": {},
   "outputs": [],
   "source": [
    "def train(X, y, hidden_neurons=10, alpha=1, epochs=50000, dropout=False, dropout_percent=0.5):\n",
    "\n",
    "    print (\"Training with %s neurons, alpha:%s, dropout:%s %s\" % (hidden_neurons, str(alpha), dropout, dropout_percent if dropout else '') )\n",
    "    print (\"Input matrix: %sx%s    Output matrix: %sx%s\" % (len(X),len(X[0]),1, len(classes)) )\n",
    "    np.random.seed(1)\n",
    "\n",
    "    last_mean_error = 1\n",
    "    # weights값을 0으로 랜덤초기화\n",
    "    synapse_0 = 2*np.random.random((len(X[0]), hidden_neurons)) - 1\n",
    "    synapse_1 = 2*np.random.random((hidden_neurons, len(classes))) - 1\n",
    "\n",
    "    prev_synapse_0_weight_update = np.zeros_like(synapse_0)\n",
    "    prev_synapse_1_weight_update = np.zeros_like(synapse_1)\n",
    "\n",
    "    synapse_0_direction_count = np.zeros_like(synapse_0)\n",
    "    synapse_1_direction_count = np.zeros_like(synapse_1)\n",
    "        \n",
    "        \n",
    "    for j in iter(range(epochs+1)):\n",
    "\n",
    "        # layers0, layer1, layer2에 입력값 전달\n",
    "        layer_0 = X\n",
    "        layer_1 = sigmoid(np.dot(layer_0, synapse_0))\n",
    "                \n",
    "        if(dropout):\n",
    "            layer_1 *= np.random.binomial([np.ones((len(X),hidden_neurons))],1-dropout_percent)[0] * (1.0/(1-dropout_percent))\n",
    "\n",
    "        layer_2 = sigmoid(np.dot(layer_1, synapse_1))\n",
    "\n",
    "        # target value 오차 측정\n",
    "        layer_2_error = y - layer_2\n",
    "\n",
    "        if (j% 10000) == 0 and j > 5000:\n",
    "            # if this 10k iteration's error is greater than the last iteration, break out\n",
    "            if np.mean(np.abs(layer_2_error)) < last_mean_error:\n",
    "                print (\"delta after \"+str(j)+\" iterations:\" + str(np.mean(np.abs(layer_2_error))) )\n",
    "                last_mean_error = np.mean(np.abs(layer_2_error))\n",
    "            else:\n",
    "                print (\"break:\", np.mean(np.abs(layer_2_error)), \">\", last_mean_error )\n",
    "                break\n",
    "                \n",
    "        # layer2: target value값 이 원하는 방향으로 나왔는지 확인, 맞다면 최소한의 변화만 주기\n",
    "        layer_2_delta = layer_2_error * sigmoid_output_to_derivative(layer_2)\n",
    "\n",
    "        # weights가 layer1, layer2에 각각 얼마나 기여했는지 계산\n",
    "        layer_1_error = layer_2_delta.dot(synapse_1.T)\n",
    "\n",
    "        # ilayer1: target value값 이 원하는 방향으로 나왔는지 확인, 맞다면 최소한의 변화만 주기\n",
    "        layer_1_delta = layer_1_error * sigmoid_output_to_derivative(layer_1)\n",
    "        \n",
    "        synapse_1_weight_update = (layer_1.T.dot(layer_2_delta))\n",
    "        synapse_0_weight_update = (layer_0.T.dot(layer_1_delta))\n",
    "        \n",
    "        if(j > 0):\n",
    "            synapse_0_direction_count += np.abs(((synapse_0_weight_update > 0)+0) - ((prev_synapse_0_weight_update > 0) + 0))\n",
    "            synapse_1_direction_count += np.abs(((synapse_1_weight_update > 0)+0) - ((prev_synapse_1_weight_update > 0) + 0))        \n",
    "        \n",
    "        synapse_1 += alpha * synapse_1_weight_update\n",
    "        synapse_0 += alpha * synapse_0_weight_update\n",
    "        \n",
    "        prev_synapse_0_weight_update = synapse_0_weight_update\n",
    "        prev_synapse_1_weight_update = synapse_1_weight_update\n",
    "\n",
    "    now = datetime.datetime.now()\n",
    "\n",
    "    # synapse(model) 만들기\n",
    "    synapse = {'synapse0': synapse_0.tolist(), 'synapse1': synapse_1.tolist(),\n",
    "               'datetime': now.strftime(\"%Y-%m-%d %H:%M\"),\n",
    "               'words': words,\n",
    "               'classes': classes\n",
    "              }\n",
    "    synapse_file = \"synapses.json\"\n",
    "\n",
    "    with open(synapse_file, 'w') as outfile:\n",
    "        json.dump(synapse, outfile, indent=4, sort_keys=True)\n",
    "    print (\"saved synapses to:\", synapse_file)"
   ]
  },
  {
   "cell_type": "code",
   "execution_count": 7,
   "metadata": {},
   "outputs": [
    {
     "name": "stdout",
     "output_type": "stream",
     "text": [
      "delta after 10000 iterations:0.006409989850771434\n",
      "delta after 20000 iterations:0.004385659225875107\n",
      "delta after 30000 iterations:0.003521350902361076\n",
      "delta after 40000 iterations:0.003016270577101034\n",
      "delta after 50000 iterations:0.002676176721750477\n",
      "delta after 60000 iterations:0.0024276267370422315\n",
      "delta after 70000 iterations:0.0022359753059778497\n",
      "delta after 80000 iterations:0.002082491220730463\n",
      "delta after 90000 iterations:0.0019560557267743663\n",
      "delta after 100000 iterations:0.0018496021788299377\n",
      "saved synapses to: synapses.json\n",
      "processing time: 7.51242208480835 seconds\n"
     ]
    }
   ],
   "source": [
    "X = np.array(training)\n",
    "y = np.array(output)\n",
    "\n",
    "start_time = time.time()\n",
    "\n",
    "train(X, y, hidden_neurons=20, alpha=0.1, epochs=100000, dropout=False, dropout_percent=0.2)\n",
    "\n",
    "elapsed_time = time.time() - start_time\n",
    "print (\"processing time:\", elapsed_time, \"seconds\")"
   ]
  },
  {
   "cell_type": "code",
   "execution_count": 8,
   "metadata": {},
   "outputs": [
    {
     "name": "stdout",
     "output_type": "stream",
     "text": [
      "sudo make me a sandwich \n",
      " classification: [['fear', 0.9985140979666376]]\n",
      "how are you today? \n",
      " classification: [['happy', 0.9980176847662942]]\n",
      "talk to you tomorrow \n",
      " classification: [['sad', 0.9860086967337713]]\n",
      "who are you? \n",
      " classification: [['happy', 0.8260345140800139]]\n",
      "make me some lunch \n",
      " classification: [['fear', 0.966998884559231]]\n",
      "how was your lunch today? \n",
      " classification: [['happy', 0.938524906701882], ['fear', 0.2157094633600867]]\n",
      "\n",
      "found in bag: good\n",
      "found in bag: day\n",
      "sentence: good day \n",
      " bow: [0 0 0 0 0 1 0 0 0 0 0 0 0 0 0 0 0 0 1 0 0 0 0 0 0 0]\n",
      "good day \n",
      " classification: [['happy', 0.9971066514456564]]\n"
     ]
    },
    {
     "data": {
      "text/plain": [
       "[['happy', 0.9971066514456564]]"
      ]
     },
     "execution_count": 8,
     "metadata": {},
     "output_type": "execute_result"
    }
   ],
   "source": [
    "ERROR_THRESHOLD = 0.2\n",
    "\n",
    "synapse_file = 'synapses.json' \n",
    "\n",
    "with open(synapse_file) as data_file: \n",
    "    synapse = json.load(data_file) \n",
    "    synapse_0 = np.asarray(synapse['synapse0']) \n",
    "    synapse_1 = np.asarray(synapse['synapse1'])\n",
    "\n",
    "def classify(sentence, show_details=False):\n",
    "    results = think(sentence, show_details)\n",
    "\n",
    "    results = [[i,r] for i,r in enumerate(results) if r>ERROR_THRESHOLD ] \n",
    "    results.sort(key=lambda x: x[1], reverse=True) \n",
    "    return_results =[[classes[r[0]],r[1]] for r in results]\n",
    "    print (\"%s \\n classification: %s\" % (sentence, return_results))\n",
    "    return return_results\n",
    "\n",
    "classify(\"sudo make me a sandwich\")\n",
    "classify(\"how are you today?\")\n",
    "classify(\"talk to you tomorrow\")\n",
    "classify(\"who are you?\")\n",
    "classify(\"make me some lunch\")\n",
    "classify(\"how was your lunch today?\")\n",
    "print()\n",
    "classify(\"good day\", show_details=True)"
   ]
  }
 ],
 "metadata": {
  "kernelspec": {
   "display_name": "Python 3",
   "language": "python",
   "name": "python3"
  },
  "language_info": {
   "codemirror_mode": {
    "name": "ipython",
    "version": 3
   },
   "file_extension": ".py",
   "mimetype": "text/x-python",
   "name": "python",
   "nbconvert_exporter": "python",
   "pygments_lexer": "ipython3",
   "version": "3.7.1"
  }
 },
 "nbformat": 4,
 "nbformat_minor": 2
}
