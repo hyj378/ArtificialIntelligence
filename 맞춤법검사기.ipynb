{
  "nbformat": 4,
  "nbformat_minor": 0,
  "metadata": {
    "colab": {
      "name": "맞춤법검사기.ipynb",
      "version": "0.3.2",
      "provenance": [],
      "include_colab_link": true
    },
    "kernelspec": {
      "name": "python3",
      "display_name": "Python 3"
    }
  },
  "cells": [
    {
      "cell_type": "markdown",
      "metadata": {
        "id": "view-in-github",
        "colab_type": "text"
      },
      "source": [
        "<a href=\"https://colab.research.google.com/github/hyj378/ArtificialIntelligence/blob/data/%EB%A7%9E%EC%B6%A4%EB%B2%95%EA%B2%80%EC%82%AC%EA%B8%B0.ipynb\" target=\"_parent\"><img src=\"https://colab.research.google.com/assets/colab-badge.svg\" alt=\"Open In Colab\"/></a>"
      ]
    },
    {
      "cell_type": "code",
      "metadata": {
        "id": "1-V9Ywe-54BY",
        "colab_type": "code",
        "outputId": "31b9e5bc-b043-4113-f6e2-2953e0e69ab5",
        "colab": {
          "base_uri": "https://localhost:8080/",
          "height": 131
        }
      },
      "source": [
        "pip install requests"
      ],
      "execution_count": 0,
      "outputs": [
        {
          "output_type": "stream",
          "text": [
            "Requirement already satisfied: requests in /usr/local/lib/python3.6/dist-packages (2.21.0)\n",
            "Requirement already satisfied: idna<2.9,>=2.5 in /usr/local/lib/python3.6/dist-packages (from requests) (2.8)\n",
            "Requirement already satisfied: certifi>=2017.4.17 in /usr/local/lib/python3.6/dist-packages (from requests) (2019.3.9)\n",
            "Requirement already satisfied: chardet<3.1.0,>=3.0.2 in /usr/local/lib/python3.6/dist-packages (from requests) (3.0.4)\n",
            "Requirement already satisfied: urllib3<1.25,>=1.21.1 in /usr/local/lib/python3.6/dist-packages (from requests) (1.24.3)\n"
          ],
          "name": "stdout"
        }
      ]
    },
    {
      "cell_type": "code",
      "metadata": {
        "id": "k-61Axxc6C46",
        "colab_type": "code",
        "colab": {}
      },
      "source": [
        "import json\n",
        "import re\n",
        "import requests"
      ],
      "execution_count": 0,
      "outputs": []
    },
    {
      "cell_type": "code",
      "metadata": {
        "id": "JqJ7XzQB9QV8",
        "colab_type": "code",
        "colab": {}
      },
      "source": [
        "def spellchecker(sentense):\n",
        "  url = \"https://m.search.naver.com/p/csearch/ocontent/util/SpellerProxy?_callback=mycallback&q=\" + sentense + \"&where=nexearch&color_blindness=0&_=1559640144299\"\n",
        "\n",
        "  response = requests.get(url).text\n",
        "  json_string = response.replace('mycallback(', '').replace(');', '')\n",
        "\n",
        "  result = json.loads(json_string, encoding='UTF-8')\n",
        "  result = result['message']['result']['html']\n",
        "  result = re.sub(r'<\\/?.*?>', '', result)\n",
        "  return result"
      ],
      "execution_count": 0,
      "outputs": []
    },
    {
      "cell_type": "code",
      "metadata": {
        "id": "-w6cdT_Fv_fh",
        "colab_type": "code",
        "outputId": "e0bc8102-22dd-4fc7-88ce-db49f736fdcd",
        "colab": {
          "base_uri": "https://localhost:8080/",
          "height": 112
        }
      },
      "source": [
        "spellchecker('어제는 짱이 좀! 아닌듯!  뭐~ 다음에 맛난거 사주면 다시 짱으로~ ㅋㅋㅋ 오늘도 힘!')"
      ],
      "execution_count": 0,
      "outputs": [
        {
          "output_type": "stream",
          "text": [
            "mycallback({\"message\":{\"result\":{\"errata_count\":2,\"origin_html\":\"어제는 짱이 좀! <span class='result_underline'>아닌듯!</span>  뭐~ 다음에 <span class='result_underline'>맛난거</span> 사주면 다시 짱으로~ ㅋㅋㅋ 오늘도 힘!\",\"html\":\"어제는 짱이 좀! <em class='green_text'>아닌 듯!</em>  뭐~ 다음에 <em class='green_text'>맛난 거</em> 사주면 다시 짱으로~ ㅋㅋㅋ 오늘도 힘!\",\"notag_html\":\"어제는 짱이 좀! 아닌 듯!  뭐~ 다음에 맛난 거 사주면 다시 짱으로~ ㅋㅋㅋ 오늘도 힘!\"}}});\n",
            "{\"message\":{\"result\":{\"errata_count\":2,\"origin_html\":\"어제는 짱이 좀! <span class='result_underline'>아닌듯!</span>  뭐~ 다음에 <span class='result_underline'>맛난거</span> 사주면 다시 짱으로~ ㅋㅋㅋ 오늘도 힘!\",\"html\":\"어제는 짱이 좀! <em class='green_text'>아닌 듯!</em>  뭐~ 다음에 <em class='green_text'>맛난 거</em> 사주면 다시 짱으로~ ㅋㅋㅋ 오늘도 힘!\",\"notag_html\":\"어제는 짱이 좀! 아닌 듯!  뭐~ 다음에 맛난 거 사주면 다시 짱으로~ ㅋㅋㅋ 오늘도 힘!\"}}}\n",
            "어제는 짱이 좀! <em class='green_text'>아닌 듯!</em>  뭐~ 다음에 <em class='green_text'>맛난 거</em> 사주면 다시 짱으로~ ㅋㅋㅋ 오늘도 힘!\n"
          ],
          "name": "stdout"
        },
        {
          "output_type": "execute_result",
          "data": {
            "text/plain": [
              "'어제는 짱이 좀! 아닌 듯!  뭐~ 다음에 맛난 거 사주면 다시 짱으로~ ㅋㅋㅋ 오늘도 힘!'"
            ]
          },
          "metadata": {
            "tags": []
          },
          "execution_count": 16
        }
      ]
    },
    {
      "cell_type": "code",
      "metadata": {
        "id": "NQsntJjNwZml",
        "colab_type": "code",
        "colab": {}
      },
      "source": [
        ""
      ],
      "execution_count": 0,
      "outputs": []
    }
  ]
}