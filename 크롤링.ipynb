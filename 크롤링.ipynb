{
  "nbformat": 4,
  "nbformat_minor": 0,
  "metadata": {
    "colab": {
      "name": "크롤링 예시.ipynb의 사본",
      "version": "0.3.2",
      "provenance": [],
      "collapsed_sections": [],
      "include_colab_link": true
    },
    "kernelspec": {
      "name": "python3",
      "display_name": "Python 3"
    },
    "accelerator": "TPU"
  },
  "cells": [
    {
      "cell_type": "markdown",
      "metadata": {
        "id": "view-in-github",
        "colab_type": "text"
      },
      "source": [
        "<a href=\"https://colab.research.google.com/github/hyj378/ArtificialIntelligence/blob/data/%ED%81%AC%EB%A1%A4%EB%A7%81.ipynb\" target=\"_parent\"><img src=\"https://colab.research.google.com/assets/colab-badge.svg\" alt=\"Open In Colab\"/></a>"
      ]
    },
    {
      "cell_type": "markdown",
      "metadata": {
        "id": "Z4XIOmYLqFyF",
        "colab_type": "text"
      },
      "source": [
        "## 크롤링 데이터 저장을 위해 구글드라이브에 연동"
      ]
    },
    {
      "cell_type": "code",
      "metadata": {
        "id": "odajv3ObFonv",
        "colab_type": "code",
        "outputId": "995c3e98-d050-4347-c25a-3216ad3636c5",
        "colab": {
          "base_uri": "https://localhost:8080/",
          "height": 160
        }
      },
      "source": [
        "from google.colab import drive\n",
        "import os\n",
        "\n",
        "if os.path.exists('/content/gdrive')==False:\n",
        "  drive.mount('/content/gdrive')\n",
        "  print('Google Drive is mounted\\n')\n",
        "else:\n",
        "  print('Google Drive is already mounted\\n')"
      ],
      "execution_count": 0,
      "outputs": [
        {
          "output_type": "stream",
          "text": [
            "Go to this URL in a browser: https://accounts.google.com/o/oauth2/auth?client_id=947318989803-6bn6qk8qdgf4n4g3pfee6491hc0brc4i.apps.googleusercontent.com&redirect_uri=urn%3Aietf%3Awg%3Aoauth%3A2.0%3Aoob&scope=email%20https%3A%2F%2Fwww.googleapis.com%2Fauth%2Fdocs.test%20https%3A%2F%2Fwww.googleapis.com%2Fauth%2Fdrive%20https%3A%2F%2Fwww.googleapis.com%2Fauth%2Fdrive.photos.readonly%20https%3A%2F%2Fwww.googleapis.com%2Fauth%2Fpeopleapi.readonly&response_type=code\n",
            "\n",
            "Enter your authorization code:\n",
            "··········\n",
            "Mounted at /content/gdrive\n",
            "Google Drive is mounted\n",
            "\n"
          ],
          "name": "stdout"
        }
      ]
    },
    {
      "cell_type": "markdown",
      "metadata": {
        "id": "XKzO6c99uK2c",
        "colab_type": "text"
      },
      "source": [
        "## 파일 저장 위치 설정"
      ]
    },
    {
      "cell_type": "code",
      "metadata": {
        "id": "QsHF6jISF0Ht",
        "colab_type": "code",
        "outputId": "9d881f91-f00e-48c4-a608-f46bd93a231f",
        "colab": {
          "base_uri": "https://localhost:8080/",
          "height": 34
        }
      },
      "source": [
        "ls"
      ],
      "execution_count": 0,
      "outputs": [
        {
          "output_type": "stream",
          "text": [
            "\u001b[0m\u001b[01;34mgdrive\u001b[0m/  \u001b[01;34msample_data\u001b[0m/\n"
          ],
          "name": "stdout"
        }
      ]
    },
    {
      "cell_type": "code",
      "metadata": {
        "id": "FHyf9ziTF5Cg",
        "colab_type": "code",
        "outputId": "533c19ca-68f9-4304-ce9c-e3a156bff3de",
        "colab": {
          "base_uri": "https://localhost:8080/",
          "height": 34
        }
      },
      "source": [
        "cd gdrive/My\\ Drive/Colab\\ Notebooks/springAI"
      ],
      "execution_count": 0,
      "outputs": [
        {
          "output_type": "stream",
          "text": [
            "/content/gdrive/My Drive/Colab Notebooks/springAI\n"
          ],
          "name": "stdout"
        }
      ]
    },
    {
      "cell_type": "markdown",
      "metadata": {
        "id": "ro4NmyrnuP9V",
        "colab_type": "text"
      },
      "source": [
        "## 크롤링"
      ]
    },
    {
      "cell_type": "code",
      "metadata": {
        "id": "ZSxdZxpEHgOe",
        "colab_type": "code",
        "colab": {}
      },
      "source": [
        "import tweepy\n",
        "import pandas as pd\n",
        "import matplotlib.pyplot as plt"
      ],
      "execution_count": 0,
      "outputs": []
    },
    {
      "cell_type": "code",
      "metadata": {
        "id": "hKc24PSnHlu7",
        "colab_type": "code",
        "colab": {}
      },
      "source": [
        "from tweepy import Stream\n",
        "from tweepy import OAuthHandler\n",
        "from tweepy.streaming import StreamListener\n",
        "\n",
        "consumer_key = \"키\"\n",
        "consumer_secret = \"키\"\n",
        "auth = tweepy.OAuthHandler(consumer_key=consumer_key, consumer_secret=consumer_secret)\n",
        "api = tweepy.API(auth, wait_on_rate_limit=True)\n",
        "# https://stackoverflow.com/questions/41786569/twitter-error-code-429-with-tweepy\n",
        "# 와 같은 오류가 발생하여 wait_on_rate_limit=True 추가\n",
        "\n",
        "atoken = \"토큰\"\n",
        "asecret = \"토큰\""
      ],
      "execution_count": 0,
      "outputs": []
    },
    {
      "cell_type": "code",
      "metadata": {
        "id": "KokV2_UgHdjQ",
        "colab_type": "code",
        "outputId": "ecea9369-2721-460a-b925-7eaf4e723bbb",
        "colab": {
          "base_uri": "https://localhost:8080/",
          "height": 34
        }
      },
      "source": [
        "results2 = []\n",
        "location = \"%s,%s,%s\" % (\"35.95\", \"128.25\", \"1000km\")\n",
        "keyword = \"😣\"                                      # OR 로 검색어 묶어줌, 검색어 5개(반드시 OR 대문자로)                             \n",
        "\n",
        "angrycursor = tweepy.Cursor(api.search, \n",
        "\n",
        "                       q=keyword,\n",
        "\n",
        "                       since='2018-01-01', # 2018-01-01 이후에 작성된 트윗들로 가져옴\n",
        "\n",
        "                       count=100,  # 페이지당 반환할 트위터 수 최대 100\n",
        "\n",
        "                       geocode=location,\n",
        "\n",
        "                       include_entities=True)\n",
        "\n",
        "for i, tweet in enumerate(angrycursor.items()):\n",
        "    results2.append(tweet)\n",
        "\n",
        "print(len(results2))"
      ],
      "execution_count": 0,
      "outputs": [
        {
          "output_type": "stream",
          "text": [
            "41770\n"
          ],
          "name": "stdout"
        }
      ]
    },
    {
      "cell_type": "code",
      "metadata": {
        "id": "F666qh43HuYG",
        "colab_type": "code",
        "colab": {}
      },
      "source": [
        "def process_results(results):\n",
        "    id_list = [tweet.id for tweet in results]\n",
        "    data_set = pd.DataFrame(id_list, columns=[\"id\"])\n",
        "\n",
        "    # Processing Tweet Data\n",
        "\n",
        "    data_set[\"text\"] = [tweet.text for tweet in results]\n",
        "    data_set[\"created_at\"] = [tweet.created_at for tweet in results]\n",
        "    data_set[\"retweet_count\"] = [tweet.retweet_count for tweet in results]\n",
        "    data_set[\"favorite_count\"] = [tweet.favorite_count for tweet in results]\n",
        "    data_set[\"source\"] = [tweet.source for tweet in results]\n",
        "\n",
        "    # Processing User Data\n",
        "    data_set[\"user_id\"] = [tweet.author.id for tweet in results]\n",
        "    data_set[\"user_screen_name\"] = [tweet.author.screen_name for tweet in results]\n",
        "    data_set[\"user_name\"] = [tweet.author.name for tweet in results]\n",
        "    data_set[\"user_created_at\"] = [tweet.author.created_at for tweet in results]\n",
        "    data_set[\"user_description\"] = [tweet.author.description for tweet in results]\n",
        "    data_set[\"user_followers_count\"] = [tweet.author.followers_count for tweet in results]\n",
        "    data_set[\"user_friends_count\"] = [tweet.author.friends_count for tweet in results]\n",
        "    data_set[\"user_location\"] = [tweet.author.location for tweet in results]\n",
        "\n",
        "    return data_set\n",
        "data_set_bad = process_results(results2)\n",
        "data_set_bad.to_csv(\"./tweet_bad.csv\")"
      ],
      "execution_count": 0,
      "outputs": []
    },
    {
      "cell_type": "code",
      "metadata": {
        "id": "pH037N_eF9Fq",
        "colab_type": "code",
        "colab": {}
      },
      "source": [
        "import numpy as np\n",
        "import pandas as pd\n",
        "import re\n",
        "\n",
        "df = pd.read_csv(\"tweetdf.csv\",encoding='utf-8')"
      ],
      "execution_count": 0,
      "outputs": []
    },
    {
      "cell_type": "code",
      "metadata": {
        "id": "xXp5S4sYGp2H",
        "colab_type": "code",
        "outputId": "714de8ef-fe04-47e5-b863-9258966a3107",
        "colab": {
          "base_uri": "https://localhost:8080/",
          "height": 34
        }
      },
      "source": [
        "type(df)"
      ],
      "execution_count": 0,
      "outputs": [
        {
          "output_type": "execute_result",
          "data": {
            "text/plain": [
              "pandas.core.frame.DataFrame"
            ]
          },
          "metadata": {
            "tags": []
          },
          "execution_count": 6
        }
      ]
    },
    {
      "cell_type": "markdown",
      "metadata": {
        "id": "9-Q9u-khuuv3",
        "colab_type": "text"
      },
      "source": [
        "## location = \"%s,%s,%s\" % (\"35.95\", \"128.25\", \"1000km\") 를 이용해서 위치로 추출하니 중국어, 일본어가 너무 많이 나와서 아래의 방법으로 수정함"
      ]
    },
    {
      "cell_type": "markdown",
      "metadata": {
        "id": "QIusYnknvCrS",
        "colab_type": "text"
      },
      "source": [
        "## 크롤링 2"
      ]
    },
    {
      "cell_type": "code",
      "metadata": {
        "id": "wS3p1YCGN52w",
        "colab_type": "code",
        "outputId": "4a0c3cbd-831c-4907-f4d8-55fcea94bcb5",
        "colab": {
          "base_uri": "https://localhost:8080/",
          "height": 361
        }
      },
      "source": [
        "pip install twitterscraper"
      ],
      "execution_count": 0,
      "outputs": [
        {
          "output_type": "stream",
          "text": [
            "Collecting twitterscraper\n",
            "  Downloading https://files.pythonhosted.org/packages/38/7d/0bf84247b78d7d223914cbf410e1160203a65d39086aaf8c6cad521cec74/twitterscraper-0.9.3.tar.gz\n",
            "Collecting coala-utils~=0.5.0 (from twitterscraper)\n",
            "  Downloading https://files.pythonhosted.org/packages/54/00/74ec750cfc4e830f9d1cfdd4d559f3d2d4ba1b834b78d5266446db3fd1d6/coala_utils-0.5.1-py3-none-any.whl\n",
            "Requirement already satisfied: bs4 in /usr/local/lib/python3.6/dist-packages (from twitterscraper) (0.0.1)\n",
            "Requirement already satisfied: lxml in /usr/local/lib/python3.6/dist-packages (from twitterscraper) (4.2.6)\n",
            "Requirement already satisfied: requests in /usr/local/lib/python3.6/dist-packages (from twitterscraper) (2.21.0)\n",
            "Requirement already satisfied: beautifulsoup4 in /usr/local/lib/python3.6/dist-packages (from bs4->twitterscraper) (4.6.3)\n",
            "Requirement already satisfied: urllib3<1.25,>=1.21.1 in /usr/local/lib/python3.6/dist-packages (from requests->twitterscraper) (1.24.3)\n",
            "Requirement already satisfied: certifi>=2017.4.17 in /usr/local/lib/python3.6/dist-packages (from requests->twitterscraper) (2019.3.9)\n",
            "Requirement already satisfied: chardet<3.1.0,>=3.0.2 in /usr/local/lib/python3.6/dist-packages (from requests->twitterscraper) (3.0.4)\n",
            "Requirement already satisfied: idna<2.9,>=2.5 in /usr/local/lib/python3.6/dist-packages (from requests->twitterscraper) (2.8)\n",
            "Building wheels for collected packages: twitterscraper\n",
            "  Building wheel for twitterscraper (setup.py) ... \u001b[?25l\u001b[?25hdone\n",
            "  Stored in directory: /root/.cache/pip/wheels/45/50/9b/70128bca07e2bf8b5ed3f504002e9e74a6eaa5e756341b6931\n",
            "Successfully built twitterscraper\n",
            "Installing collected packages: coala-utils, twitterscraper\n",
            "Successfully installed coala-utils-0.5.1 twitterscraper-0.9.3\n"
          ],
          "name": "stdout"
        }
      ]
    },
    {
      "cell_type": "code",
      "metadata": {
        "id": "_Wq_NhaqKRZu",
        "colab_type": "code",
        "outputId": "fe3a8fc7-7841-43e9-8fb9-8f9eccebf48c",
        "colab": {
          "base_uri": "https://localhost:8080/",
          "height": 989
        }
      },
      "source": [
        "results3"
      ],
      "execution_count": 0,
      "outputs": [
        {
          "output_type": "execute_result",
          "data": {
            "text/plain": [
              "[<twitterscraper.tweet.Tweet at 0x7f77a1eb0fd0>,\n",
              " <twitterscraper.tweet.Tweet at 0x7f77a1eb90f0>,\n",
              " <twitterscraper.tweet.Tweet at 0x7f77a1eb0e10>,\n",
              " <twitterscraper.tweet.Tweet at 0x7f77a1eb90b8>,\n",
              " <twitterscraper.tweet.Tweet at 0x7f77a1eb91d0>,\n",
              " <twitterscraper.tweet.Tweet at 0x7f77a1eb9240>,\n",
              " <twitterscraper.tweet.Tweet at 0x7f77a1eb9320>,\n",
              " <twitterscraper.tweet.Tweet at 0x7f77a1eb9358>,\n",
              " <twitterscraper.tweet.Tweet at 0x7f77a1eb93c8>,\n",
              " <twitterscraper.tweet.Tweet at 0x7f77a1eb9438>,\n",
              " <twitterscraper.tweet.Tweet at 0x7f77a1eb0f98>,\n",
              " <twitterscraper.tweet.Tweet at 0x7f77a1eb9160>,\n",
              " <twitterscraper.tweet.Tweet at 0x7f77a1eb9668>,\n",
              " <twitterscraper.tweet.Tweet at 0x7f77a1eb96d8>,\n",
              " <twitterscraper.tweet.Tweet at 0x7f77a1eb9780>,\n",
              " <twitterscraper.tweet.Tweet at 0x7f77a1eb97f0>,\n",
              " <twitterscraper.tweet.Tweet at 0x7f77a1eb9828>,\n",
              " <twitterscraper.tweet.Tweet at 0x7f77a1eb9860>,\n",
              " <twitterscraper.tweet.Tweet at 0x7f77a1eb9898>,\n",
              " <twitterscraper.tweet.Tweet at 0x7f77a1eb9908>,\n",
              " <twitterscraper.tweet.Tweet at 0x7f77a1eb99b0>,\n",
              " <twitterscraper.tweet.Tweet at 0x7f77a1eb9a20>,\n",
              " <twitterscraper.tweet.Tweet at 0x7f77a1eb9a90>,\n",
              " <twitterscraper.tweet.Tweet at 0x7f77a1eb9b38>,\n",
              " <twitterscraper.tweet.Tweet at 0x7f77a1eb9ba8>,\n",
              " <twitterscraper.tweet.Tweet at 0x7f77a1eb9c88>,\n",
              " <twitterscraper.tweet.Tweet at 0x7f77a1eb9cf8>,\n",
              " <twitterscraper.tweet.Tweet at 0x7f77a1eb9d68>,\n",
              " <twitterscraper.tweet.Tweet at 0x7f77a1eb9e48>,\n",
              " <twitterscraper.tweet.Tweet at 0x7f77a1eb9f28>,\n",
              " <twitterscraper.tweet.Tweet at 0x7f77a1ec5048>,\n",
              " <twitterscraper.tweet.Tweet at 0x7f77a1ec50f0>,\n",
              " <twitterscraper.tweet.Tweet at 0x7f77a1ec51d0>,\n",
              " <twitterscraper.tweet.Tweet at 0x7f77a1ec5278>,\n",
              " <twitterscraper.tweet.Tweet at 0x7f77a1ec5358>,\n",
              " <twitterscraper.tweet.Tweet at 0x7f77a1ec5400>,\n",
              " <twitterscraper.tweet.Tweet at 0x7f77a1ec5470>,\n",
              " <twitterscraper.tweet.Tweet at 0x7f77a1ec54e0>,\n",
              " <twitterscraper.tweet.Tweet at 0x7f77a1ec5550>,\n",
              " <twitterscraper.tweet.Tweet at 0x7f77a1ec55c0>,\n",
              " <twitterscraper.tweet.Tweet at 0x7f77a1ec5668>,\n",
              " <twitterscraper.tweet.Tweet at 0x7f77a1ec56d8>,\n",
              " <twitterscraper.tweet.Tweet at 0x7f77a1ec5748>,\n",
              " <twitterscraper.tweet.Tweet at 0x7f77a1ec57f0>,\n",
              " <twitterscraper.tweet.Tweet at 0x7f77a1ec5860>,\n",
              " <twitterscraper.tweet.Tweet at 0x7f77a1ec5940>,\n",
              " <twitterscraper.tweet.Tweet at 0x7f77a1ec59b0>,\n",
              " <twitterscraper.tweet.Tweet at 0x7f77a1ec5a20>,\n",
              " <twitterscraper.tweet.Tweet at 0x7f77a1ec5b00>,\n",
              " <twitterscraper.tweet.Tweet at 0x7f77a1ec5be0>,\n",
              " <twitterscraper.tweet.Tweet at 0x7f77a1ec5cc0>,\n",
              " <twitterscraper.tweet.Tweet at 0x7f77a1ec5d68>,\n",
              " <twitterscraper.tweet.Tweet at 0x7f77a1ec5dd8>,\n",
              " <twitterscraper.tweet.Tweet at 0x7f77a1ec5e48>]"
            ]
          },
          "metadata": {
            "tags": []
          },
          "execution_count": 4
        }
      ]
    },
    {
      "cell_type": "code",
      "metadata": {
        "id": "qhHJ6NPMGrzN",
        "colab_type": "code",
        "outputId": "75c7fd02-6e5f-47ec-8408-1d16c7a70076",
        "colab": {
          "base_uri": "https://localhost:8080/",
          "height": 136
        }
      },
      "source": [
        "from twitterscraper import query_tweets\n",
        "\n",
        "results3 = []\n",
        "\n",
        "list_of_tweets = query_tweets(\"😨 OR 😰 OR 😱 OR '무섭' OR 'ㄷㄷ' \", lang='ko', limit=1000000 , begindate = 2010-01-01)\n",
        "for tweet in list_of_tweets:\n",
        "    results3.append(tweet)\n",
        "    \n",
        "print(len(results3))"
      ],
      "execution_count": 0,
      "outputs": [
        {
          "output_type": "error",
          "ename": "SyntaxError",
          "evalue": "ignored",
          "traceback": [
            "\u001b[0;36m  File \u001b[0;32m\"<ipython-input-5-f8bac18efcf5>\"\u001b[0;36m, line \u001b[0;32m5\u001b[0m\n\u001b[0;31m    list_of_tweets = query_tweets(\"😨 OR 😰 OR 😱 OR '무섭' OR 'ㄷㄷ' \", lang='ko', limit=1000000 , begindate = 2010-01-01)\u001b[0m\n\u001b[0m                                                                                                               ^\u001b[0m\n\u001b[0;31mSyntaxError\u001b[0m\u001b[0;31m:\u001b[0m invalid token\n"
          ]
        }
      ]
    },
    {
      "cell_type": "markdown",
      "metadata": {
        "id": "2OpCrb_BvKc8",
        "colab_type": "text"
      },
      "source": [
        "## 전처리 전에 크롤링 데이터를 저장\n",
        "## 전처리 과정에서 데이터가 손상 될 수 있으므로 항상 백업을 위해 저장해놓는게 좋아요!"
      ]
    },
    {
      "cell_type": "code",
      "metadata": {
        "id": "HHXOOPuyN4GV",
        "colab_type": "code",
        "colab": {}
      },
      "source": [
        "def process_results(results):\n",
        "    id_list = [tweet.id for tweet in results]\n",
        "    data_set = pd.DataFrame(id_list, columns=[\"id\"])\n",
        "\n",
        "    # Processing Tweet Data\n",
        "\n",
        "    data_set[\"text\"] = [tweet.text for tweet in results]\n",
        "\n",
        "\n",
        "    return data_set\n",
        "data_set_bad2 = process_results(results3)\n",
        "data_set_bad2.to_csv(\"./tweet_bad2.csv\")"
      ],
      "execution_count": 0,
      "outputs": []
    },
    {
      "cell_type": "code",
      "metadata": {
        "id": "Vp51NwE2Sa0u",
        "colab_type": "code",
        "outputId": "c2444bfd-a6f3-4803-8b4b-517bdce9beec",
        "colab": {
          "base_uri": "https://localhost:8080/",
          "height": 2520
        }
      },
      "source": [
        "data_set_bad2"
      ],
      "execution_count": 0,
      "outputs": [
        {
          "output_type": "execute_result",
          "data": {
            "text/html": [
              "<div>\n",
              "<style scoped>\n",
              "    .dataframe tbody tr th:only-of-type {\n",
              "        vertical-align: middle;\n",
              "    }\n",
              "\n",
              "    .dataframe tbody tr th {\n",
              "        vertical-align: top;\n",
              "    }\n",
              "\n",
              "    .dataframe thead th {\n",
              "        text-align: right;\n",
              "    }\n",
              "</style>\n",
              "<table border=\"1\" class=\"dataframe\">\n",
              "  <thead>\n",
              "    <tr style=\"text-align: right;\">\n",
              "      <th></th>\n",
              "      <th>id</th>\n",
              "      <th>text</th>\n",
              "    </tr>\n",
              "  </thead>\n",
              "  <tbody>\n",
              "    <tr>\n",
              "      <th>0</th>\n",
              "      <td>82647947841511424</td>\n",
              "      <td>@ReMagritte  왜? 판떼기2갖고 싶니? 알티하구¿ ㅋㅋㅋ</td>\n",
              "    </tr>\n",
              "    <tr>\n",
              "      <th>1</th>\n",
              "      <td>79077428739317760</td>\n",
              "      <td>왓샙 한통에 기분이 확~  두근거렸던 그 띵띵이..</td>\n",
              "    </tr>\n",
              "    <tr>\n",
              "      <th>2</th>\n",
              "      <td>78853310009982977</td>\n",
              "      <td>흥! 드라마따위!!!! ( ｀ω´)</td>\n",
              "    </tr>\n",
              "    <tr>\n",
              "      <th>3</th>\n",
              "      <td>82647947841511424</td>\n",
              "      <td>@ReMagritte  왜? 판떼기2갖고 싶니? 알티하구¿ ㅋㅋㅋ</td>\n",
              "    </tr>\n",
              "    <tr>\n",
              "      <th>4</th>\n",
              "      <td>79077428739317760</td>\n",
              "      <td>왓샙 한통에 기분이 확~  두근거렸던 그 띵띵이..</td>\n",
              "    </tr>\n",
              "    <tr>\n",
              "      <th>5</th>\n",
              "      <td>78853310009982977</td>\n",
              "      <td>흥! 드라마따위!!!! ( ｀ω´)</td>\n",
              "    </tr>\n",
              "    <tr>\n",
              "      <th>6</th>\n",
              "      <td>871879263246405633</td>\n",
              "      <td>아직 실트가 안됐어요 우신고?</td>\n",
              "    </tr>\n",
              "    <tr>\n",
              "      <th>7</th>\n",
              "      <td>871878371503988736</td>\n",
              "      <td>나는 enfando의 enmorandos에게 당신을 인용하지 않으</td>\n",
              "    </tr>\n",
              "    <tr>\n",
              "      <th>8</th>\n",
              "      <td>871877046607237121</td>\n",
              "      <td>난 당신이 이상한 마 흔 하 리 극장 가짜 얼굴 을 잡기 속임수를 인용 하지 않는 ...</td>\n",
              "    </tr>\n",
              "    <tr>\n",
              "      <th>9</th>\n",
              "      <td>871876703664066560</td>\n",
              "      <td>망할놈의 모기</td>\n",
              "    </tr>\n",
              "    <tr>\n",
              "      <th>10</th>\n",
              "      <td>871876108165173248</td>\n",
              "      <td>그래도  그렇지 쪽바리  기업을  변호하면  되겠나 https://twitter.c...</td>\n",
              "    </tr>\n",
              "    <tr>\n",
              "      <th>11</th>\n",
              "      <td>871866231254429697</td>\n",
              "      <td>반성없는 한걸레!!!\\n오늘의유머 - 대박..ㅋㅋㅋ 한겨레트윗 5월부터 십알단 양성...</td>\n",
              "    </tr>\n",
              "    <tr>\n",
              "      <th>12</th>\n",
              "      <td>871866109556695040</td>\n",
              "      <td>제 말이요~.</td>\n",
              "    </tr>\n",
              "    <tr>\n",
              "      <th>13</th>\n",
              "      <td>871864712106987520</td>\n",
              "      <td>이분자막은 오늘밤에 내방으로 와서 술마시자라고 해놓으셨네 .... 오늘밤이라는말이 ...</td>\n",
              "    </tr>\n",
              "    <tr>\n",
              "      <th>14</th>\n",
              "      <td>871864527155056642</td>\n",
              "      <td>아가 작가님~ SNS하나도 진짜 없나?</td>\n",
              "    </tr>\n",
              "    <tr>\n",
              "      <th>15</th>\n",
              "      <td>871862800976551936</td>\n",
              "      <td>안한다며...</td>\n",
              "    </tr>\n",
              "    <tr>\n",
              "      <th>16</th>\n",
              "      <td>871862151396208641</td>\n",
              "      <td>이런거 은근 화나더라구요\\n뭔가 생색은 오라지게 내는것처럼 하면서\\n막상 뚜껑열어보...</td>\n",
              "    </tr>\n",
              "    <tr>\n",
              "      <th>17</th>\n",
              "      <td>871861644011458561</td>\n",
              "      <td>요즈음 보면...고의적 산불 방화범이 있어보이네요~!</td>\n",
              "    </tr>\n",
              "    <tr>\n",
              "      <th>18</th>\n",
              "      <td>871859077873246208</td>\n",
              "      <td>솔직히 거기서 좋은 점을 다룰 필요성이 무어가 있겠어요 . . ㅠㅜㅠ ) 안 좋은 ...</td>\n",
              "    </tr>\n",
              "    <tr>\n",
              "      <th>19</th>\n",
              "      <td>871842837377073152</td>\n",
              "      <td>진짜 vip라고 과시하는거 별루...\\n그냥 선수단이 잘할수있게 도움만줘야하는뎅.....</td>\n",
              "    </tr>\n",
              "    <tr>\n",
              "      <th>20</th>\n",
              "      <td>871835534506590210</td>\n",
              "      <td>반드시구속하여야한다. 우리사회의 가장흔한 그러나 밝혀지지않는 범죄이다.  대기업 중...</td>\n",
              "    </tr>\n",
              "    <tr>\n",
              "      <th>21</th>\n",
              "      <td>871820802638831617</td>\n",
              "      <td>붓이 문젠건지 내 손이 문젠건지...</td>\n",
              "    </tr>\n",
              "    <tr>\n",
              "      <th>22</th>\n",
              "      <td>871820759844265984</td>\n",
              "      <td>ㅋㅋㅋㅋ드디오 미션 성공이야 \\n\\n음 얼마전에 제가 영재오빠한테 부탁했거든여.. ...</td>\n",
              "    </tr>\n",
              "    <tr>\n",
              "      <th>23</th>\n",
              "      <td>871812844840288256</td>\n",
              "      <td>그러니까 왜 속상하게 하냐고 트위터놈아ㅠㅠㅠ아오</td>\n",
              "    </tr>\n",
              "    <tr>\n",
              "      <th>24</th>\n",
              "      <td>871811866732965888</td>\n",
              "      <td>기여운 휴니에게 칭찬받으면 행복하지요!  헉 그그러고보니 탐라관캐는 우지끈! 할 정...</td>\n",
              "    </tr>\n",
              "    <tr>\n",
              "      <th>25</th>\n",
              "      <td>871810514355011584</td>\n",
              "      <td>ㅠㅜ...한창 바쁘실때게ㅛ네요....대체 대학ㄲ가지 가서 과제만 하다 끝나는거 너무...</td>\n",
              "    </tr>\n",
              "    <tr>\n",
              "      <th>26</th>\n",
              "      <td>871879263246405633</td>\n",
              "      <td>아직 실트가 안됐어요 우신고?</td>\n",
              "    </tr>\n",
              "    <tr>\n",
              "      <th>27</th>\n",
              "      <td>871878371503988736</td>\n",
              "      <td>나는 enfando의 enmorandos에게 당신을 인용하지 않으</td>\n",
              "    </tr>\n",
              "    <tr>\n",
              "      <th>28</th>\n",
              "      <td>871877046607237121</td>\n",
              "      <td>난 당신이 이상한 마 흔 하 리 극장 가짜 얼굴 을 잡기 속임수를 인용 하지 않는 ...</td>\n",
              "    </tr>\n",
              "    <tr>\n",
              "      <th>29</th>\n",
              "      <td>871876703664066560</td>\n",
              "      <td>망할놈의 모기</td>\n",
              "    </tr>\n",
              "    <tr>\n",
              "      <th>...</th>\n",
              "      <td>...</td>\n",
              "      <td>...</td>\n",
              "    </tr>\n",
              "    <tr>\n",
              "      <th>121007</th>\n",
              "      <td>1035327850683891712</td>\n",
              "      <td>오늘도 여전한 소음공해  https://www.instagram.com/p/BnH6...</td>\n",
              "    </tr>\n",
              "    <tr>\n",
              "      <th>121008</th>\n",
              "      <td>1035326294295117824</td>\n",
              "      <td>오늘 아침부터 폰 열 때마다 뜨네요... 업데이트 또 나왔나 확인해보면 없고</td>\n",
              "    </tr>\n",
              "    <tr>\n",
              "      <th>121009</th>\n",
              "      <td>1035325818224820224</td>\n",
              "      <td>니새끼 중하면 내새끼도 중하다고요 어디서 비교질이야 비교질이</td>\n",
              "    </tr>\n",
              "    <tr>\n",
              "      <th>121010</th>\n",
              "      <td>1035323457381138433</td>\n",
              "      <td>소소:나 니가 괘북에 올린 사진 보고 개안했잖어 대박 개잘생겼어 어디서 그런 사람이...</td>\n",
              "    </tr>\n",
              "    <tr>\n",
              "      <th>121011</th>\n",
              "      <td>1035323318579027968</td>\n",
              "      <td>엠레기 맨날 멈춤 4k가 한계인가봐 ㅠㅠ #flp #incredible #XIA #...</td>\n",
              "    </tr>\n",
              "    <tr>\n",
              "      <th>121012</th>\n",
              "      <td>1035323176757022720</td>\n",
              "      <td>진짜 느므 멀어 ㅜㅜㅜ 히히 쌤만 기다리고이쑤꼬에요 나눈  비장하답</td>\n",
              "    </tr>\n",
              "    <tr>\n",
              "      <th>121013</th>\n",
              "      <td>1035321474045829120</td>\n",
              "      <td>에에엥? 무서웠다구요? 아니!!!!  제가 귀신아야? 흥 ㅠㅠㅠㅠㅠㅠㅠ 귀신이 더 ...</td>\n",
              "    </tr>\n",
              "    <tr>\n",
              "      <th>121014</th>\n",
              "      <td>1035321297658494976</td>\n",
              "      <td>ㅅㅏ부요.......</td>\n",
              "    </tr>\n",
              "    <tr>\n",
              "      <th>121015</th>\n",
              "      <td>1035317468632236032</td>\n",
              "      <td>선배는 ... 선배는 ... 치사하고 얄미워요</td>\n",
              "    </tr>\n",
              "    <tr>\n",
              "      <th>121016</th>\n",
              "      <td>1035316261549264896</td>\n",
              "      <td>참나... 이제서야??!!!! http://www.edaily.co.kr/news/...</td>\n",
              "    </tr>\n",
              "    <tr>\n",
              "      <th>121017</th>\n",
              "      <td>1035316028983586816</td>\n",
              "      <td>N\\n　 O\\n　　　 O\\n　　　　 o\\n　　　　　o\\n　　　　　 o\\n　　　　　o...</td>\n",
              "    </tr>\n",
              "    <tr>\n",
              "      <th>121018</th>\n",
              "      <td>1035314195770658816</td>\n",
              "      <td>제발 한번에 풀어라\\n관종끼 낭낭 어휴ㅠㅠㅠㅠㅠㅠㅠ</td>\n",
              "    </tr>\n",
              "    <tr>\n",
              "      <th>121019</th>\n",
              "      <td>1035313446064029696</td>\n",
              "      <td>잘찍은것도 있는데 그건 사라지고 저것만 남앗다구요</td>\n",
              "    </tr>\n",
              "    <tr>\n",
              "      <th>121020</th>\n",
              "      <td>1035312660760293376</td>\n",
              "      <td>망할 엠개 캐슷을 뱉어라ㅡㅡ 자꾸 기사로 먼저 봐야겠냐 아오씨</td>\n",
              "    </tr>\n",
              "    <tr>\n",
              "      <th>121021</th>\n",
              "      <td>1035310468905062400</td>\n",
              "      <td>너 미워 https://twitter.com/disso_go/status/10352...</td>\n",
              "    </tr>\n",
              "    <tr>\n",
              "      <th>121022</th>\n",
              "      <td>1035310442581647361</td>\n",
              "      <td>'일베 박카스남' 사진, 40대 서초구청 직원이 촬영…\"음란물사이트 등급 올리려고\"...</td>\n",
              "    </tr>\n",
              "    <tr>\n",
              "      <th>121023</th>\n",
              "      <td>1035309767323836416</td>\n",
              "      <td>학교 pic.twitter.com/E0sdq9k3Vk</td>\n",
              "    </tr>\n",
              "    <tr>\n",
              "      <th>121024</th>\n",
              "      <td>1035308749496307712</td>\n",
              "      <td>아 진짜 그 회사.... 그럼 오늘은 적어도 야근 안하길 빌어보는수밖에 없나...ㅠ...</td>\n",
              "    </tr>\n",
              "    <tr>\n",
              "      <th>121025</th>\n",
              "      <td>1035308005485568001</td>\n",
              "      <td>예전에 방산비리재판에서 판결이 생계형비리 라고했죠?\\n개자슥들</td>\n",
              "    </tr>\n",
              "    <tr>\n",
              "      <th>121026</th>\n",
              "      <td>1035305205456224256</td>\n",
              "      <td>아침부터 존빡</td>\n",
              "    </tr>\n",
              "    <tr>\n",
              "      <th>121027</th>\n",
              "      <td>1035304800936554496</td>\n",
              "      <td>현생이 괴롭혀 !!!</td>\n",
              "    </tr>\n",
              "    <tr>\n",
              "      <th>121028</th>\n",
              "      <td>1035303884942536704</td>\n",
              "      <td>아니!!!</td>\n",
              "    </tr>\n",
              "    <tr>\n",
              "      <th>121029</th>\n",
              "      <td>1035303071658663936</td>\n",
              "      <td>기레기가 또.. http://www.ziksir.com/ziksir/view/69...</td>\n",
              "    </tr>\n",
              "    <tr>\n",
              "      <th>121030</th>\n",
              "      <td>1035303004142882818</td>\n",
              "      <td>택시정거장을 왜 만들었니?\\n택시들이 한대 서지도 않는데\\n대체 정거장 에 서서 기...</td>\n",
              "    </tr>\n",
              "    <tr>\n",
              "      <th>121031</th>\n",
              "      <td>1035302973063147520</td>\n",
              "      <td>와! 수구좌파,구좌파 ㅅㄲ들이 자한당 보수꼴통보다 더하믄더했지 덜 할놈들 아니네요....</td>\n",
              "    </tr>\n",
              "    <tr>\n",
              "      <th>121032</th>\n",
              "      <td>1035302247968559104</td>\n",
              "      <td>옆 침대 할무니가 나보고 들어왔을때 보다 살쪘다고 놀린다  먹고자고했더니 마니 쪘나...</td>\n",
              "    </tr>\n",
              "    <tr>\n",
              "      <th>121033</th>\n",
              "      <td>1035301682123485189</td>\n",
              "      <td>송인배 실제 이사 역할했는지 핵심증거 '재직기록' 불탔다\\nhttps://v.dau...</td>\n",
              "    </tr>\n",
              "    <tr>\n",
              "      <th>121034</th>\n",
              "      <td>1035301551961604097</td>\n",
              "      <td>유튜브 하고있오~ 말하자면 느무 길어서..하...^^ 뭐 다그렇지 하 개자식들!!!...</td>\n",
              "    </tr>\n",
              "    <tr>\n",
              "      <th>121035</th>\n",
              "      <td>1035301427432677376</td>\n",
              "      <td>인*이트 참 불량합니다. \\n기사 참 쉽게 써요. 이걸 언론사라고 해야 할 지...</td>\n",
              "    </tr>\n",
              "    <tr>\n",
              "      <th>121036</th>\n",
              "      <td>1035301049915953152</td>\n",
              "      <td>일어났는데 어제 8화 생각하니 화나는사람,,,,,,,</td>\n",
              "    </tr>\n",
              "  </tbody>\n",
              "</table>\n",
              "<p>121037 rows × 2 columns</p>\n",
              "</div>"
            ],
            "text/plain": [
              "                         id                                               text\n",
              "0         82647947841511424               @ReMagritte  왜? 판떼기2갖고 싶니? 알티하구¿ ㅋㅋㅋ\n",
              "1         79077428739317760                       왓샙 한통에 기분이 확~  두근거렸던 그 띵띵이..\n",
              "2         78853310009982977                              흥! 드라마따위!!!! ( ｀ω´)  \n",
              "3         82647947841511424               @ReMagritte  왜? 판떼기2갖고 싶니? 알티하구¿ ㅋㅋㅋ\n",
              "4         79077428739317760                       왓샙 한통에 기분이 확~  두근거렸던 그 띵띵이..\n",
              "5         78853310009982977                              흥! 드라마따위!!!! ( ｀ω´)  \n",
              "6        871879263246405633                                   아직 실트가 안됐어요 우신고?\n",
              "7        871878371503988736              나는 enfando의 enmorandos에게 당신을 인용하지 않으 \n",
              "8        871877046607237121  난 당신이 이상한 마 흔 하 리 극장 가짜 얼굴 을 잡기 속임수를 인용 하지 않는 ...\n",
              "9        871876703664066560                                            망할놈의 모기\n",
              "10       871876108165173248  그래도  그렇지 쪽바리  기업을  변호하면  되겠나 https://twitter.c...\n",
              "11       871866231254429697  반성없는 한걸레!!!\\n오늘의유머 - 대박..ㅋㅋㅋ 한겨레트윗 5월부터 십알단 양성...\n",
              "12       871866109556695040                                           제 말이요~. \n",
              "13       871864712106987520  이분자막은 오늘밤에 내방으로 와서 술마시자라고 해놓으셨네 .... 오늘밤이라는말이 ...\n",
              "14       871864527155056642                             아가 작가님~ SNS하나도 진짜 없나? \n",
              "15       871862800976551936                                            안한다며...\n",
              "16       871862151396208641  이런거 은근 화나더라구요\\n뭔가 생색은 오라지게 내는것처럼 하면서\\n막상 뚜껑열어보...\n",
              "17       871861644011458561                      요즈음 보면...고의적 산불 방화범이 있어보이네요~!\n",
              "18       871859077873246208  솔직히 거기서 좋은 점을 다룰 필요성이 무어가 있겠어요 . . ㅠㅜㅠ ) 안 좋은 ...\n",
              "19       871842837377073152  진짜 vip라고 과시하는거 별루...\\n그냥 선수단이 잘할수있게 도움만줘야하는뎅.....\n",
              "20       871835534506590210  반드시구속하여야한다. 우리사회의 가장흔한 그러나 밝혀지지않는 범죄이다.  대기업 중...\n",
              "21       871820802638831617                               붓이 문젠건지 내 손이 문젠건지...\n",
              "22       871820759844265984  ㅋㅋㅋㅋ드디오 미션 성공이야 \\n\\n음 얼마전에 제가 영재오빠한테 부탁했거든여.. ...\n",
              "23       871812844840288256                         그러니까 왜 속상하게 하냐고 트위터놈아ㅠㅠㅠ아오\n",
              "24       871811866732965888  기여운 휴니에게 칭찬받으면 행복하지요!  헉 그그러고보니 탐라관캐는 우지끈! 할 정...\n",
              "25       871810514355011584  ㅠㅜ...한창 바쁘실때게ㅛ네요....대체 대학ㄲ가지 가서 과제만 하다 끝나는거 너무...\n",
              "26       871879263246405633                                   아직 실트가 안됐어요 우신고?\n",
              "27       871878371503988736              나는 enfando의 enmorandos에게 당신을 인용하지 않으 \n",
              "28       871877046607237121  난 당신이 이상한 마 흔 하 리 극장 가짜 얼굴 을 잡기 속임수를 인용 하지 않는 ...\n",
              "29       871876703664066560                                            망할놈의 모기\n",
              "...                     ...                                                ...\n",
              "121007  1035327850683891712  오늘도 여전한 소음공해  https://www.instagram.com/p/BnH6...\n",
              "121008  1035326294295117824        오늘 아침부터 폰 열 때마다 뜨네요... 업데이트 또 나왔나 확인해보면 없고 \n",
              "121009  1035325818224820224                 니새끼 중하면 내새끼도 중하다고요 어디서 비교질이야 비교질이 \n",
              "121010  1035323457381138433  소소:나 니가 괘북에 올린 사진 보고 개안했잖어 대박 개잘생겼어 어디서 그런 사람이...\n",
              "121011  1035323318579027968  엠레기 맨날 멈춤 4k가 한계인가봐 ㅠㅠ #flp #incredible #XIA #...\n",
              "121012  1035323176757022720              진짜 느므 멀어 ㅜㅜㅜ 히히 쌤만 기다리고이쑤꼬에요 나눈  비장하답\n",
              "121013  1035321474045829120  에에엥? 무서웠다구요? 아니!!!!  제가 귀신아야? 흥 ㅠㅠㅠㅠㅠㅠㅠ 귀신이 더 ...\n",
              "121014  1035321297658494976                                        ㅅㅏ부요.......\n",
              "121015  1035317468632236032                         선배는 ... 선배는 ... 치사하고 얄미워요 \n",
              "121016  1035316261549264896  참나... 이제서야??!!!! http://www.edaily.co.kr/news/...\n",
              "121017  1035316028983586816  N\\n　 O\\n　　　 O\\n　　　　 o\\n　　　　　o\\n　　　　　 o\\n　　　　　o...\n",
              "121018  1035314195770658816                       제발 한번에 풀어라\\n관종끼 낭낭 어휴ㅠㅠㅠㅠㅠㅠㅠ\n",
              "121019  1035313446064029696                        잘찍은것도 있는데 그건 사라지고 저것만 남앗다구요\n",
              "121020  1035312660760293376                 망할 엠개 캐슷을 뱉어라ㅡㅡ 자꾸 기사로 먼저 봐야겠냐 아오씨\n",
              "121021  1035310468905062400  너 미워 https://twitter.com/disso_go/status/10352...\n",
              "121022  1035310442581647361  '일베 박카스남' 사진, 40대 서초구청 직원이 촬영…\"음란물사이트 등급 올리려고\"...\n",
              "121023  1035309767323836416                      학교 pic.twitter.com/E0sdq9k3Vk\n",
              "121024  1035308749496307712  아 진짜 그 회사.... 그럼 오늘은 적어도 야근 안하길 빌어보는수밖에 없나...ㅠ...\n",
              "121025  1035308005485568001                 예전에 방산비리재판에서 판결이 생계형비리 라고했죠?\\n개자슥들\n",
              "121026  1035305205456224256                                            아침부터 존빡\n",
              "121027  1035304800936554496                                        현생이 괴롭혀 !!!\n",
              "121028  1035303884942536704                                             아니!!! \n",
              "121029  1035303071658663936   기레기가 또.. http://www.ziksir.com/ziksir/view/69...\n",
              "121030  1035303004142882818  택시정거장을 왜 만들었니?\\n택시들이 한대 서지도 않는데\\n대체 정거장 에 서서 기...\n",
              "121031  1035302973063147520  와! 수구좌파,구좌파 ㅅㄲ들이 자한당 보수꼴통보다 더하믄더했지 덜 할놈들 아니네요....\n",
              "121032  1035302247968559104  옆 침대 할무니가 나보고 들어왔을때 보다 살쪘다고 놀린다  먹고자고했더니 마니 쪘나...\n",
              "121033  1035301682123485189  송인배 실제 이사 역할했는지 핵심증거 '재직기록' 불탔다\\nhttps://v.dau...\n",
              "121034  1035301551961604097  유튜브 하고있오~ 말하자면 느무 길어서..하...^^ 뭐 다그렇지 하 개자식들!!!...\n",
              "121035  1035301427432677376     인*이트 참 불량합니다. \\n기사 참 쉽게 써요. 이걸 언론사라고 해야 할 지...\n",
              "121036  1035301049915953152                      일어났는데 어제 8화 생각하니 화나는사람,,,,,,,\n",
              "\n",
              "[121037 rows x 2 columns]"
            ]
          },
          "metadata": {
            "tags": []
          },
          "execution_count": 24
        }
      ]
    },
    {
      "cell_type": "code",
      "metadata": {
        "id": "OW5cb8jmS03-",
        "colab_type": "code",
        "colab": {}
      },
      "source": [
        ""
      ],
      "execution_count": 0,
      "outputs": []
    }
  ]
}