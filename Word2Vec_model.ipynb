{
  "nbformat": 4,
  "nbformat_minor": 0,
  "metadata": {
    "colab": {
      "name": "[팀플] 테스트모델",
      "version": "0.3.2",
      "provenance": [],
      "collapsed_sections": [],
      "include_colab_link": true
    },
    "kernelspec": {
      "name": "python3",
      "display_name": "Python 3"
    },
    "accelerator": "GPU"
  },
  "cells": [
    {
      "cell_type": "markdown",
      "metadata": {
        "id": "view-in-github",
        "colab_type": "text"
      },
      "source": [
        "<a href=\"https://colab.research.google.com/github/hyj378/ArtificialIntelligence/blob/master/Word2Vec_model.ipynb\" target=\"_parent\"><img src=\"https://colab.research.google.com/assets/colab-badge.svg\" alt=\"Open In Colab\"/></a>"
      ]
    },
    {
      "cell_type": "markdown",
      "metadata": {
        "id": "01fsp2EqgZSh",
        "colab_type": "text"
      },
      "source": [
        "# Word2Vec"
      ]
    },
    {
      "cell_type": "code",
      "metadata": {
        "id": "jLzL9AmTdqft",
        "colab_type": "code",
        "colab": {}
      },
      "source": [
        "! pip install gensim"
      ],
      "execution_count": 0,
      "outputs": []
    },
    {
      "cell_type": "code",
      "metadata": {
        "id": "9Pkl_krigAMn",
        "colab_type": "code",
        "colab": {}
      },
      "source": [
        "from gensim.models import word2vec\n",
        "import matplotlib.pyplot as plt"
      ],
      "execution_count": 0,
      "outputs": []
    },
    {
      "cell_type": "code",
      "metadata": {
        "id": "HU_eOhGyeFTh",
        "colab_type": "code",
        "colab": {}
      },
      "source": [
        "tf.reset_default_graph() #matplot을 다시 실행하면 오류나서 초기화작업 해야함\n",
        "\n",
        "\n",
        "#단어와 2차원 x축의 값, y축의 값을 입력받아 2차원 그래프 그리\n",
        "def plot_2d_graph(vocabs, xs, ys): # word2vec을 생성하는 함수\n",
        "  plt.figure(figsize=(8,6))\n",
        "  plt.scatter(xs,ys,marker='o') #산포도 그리기. 점(o)로 찍어서 그림 그리는거\n",
        "  for i,v in enumerate(vocabs):\n",
        "    plt.annotate(v, xy=(xs[i], ys[i])) #해당하는 값에 그래프 점 찍기"
      ],
      "execution_count": 0,
      "outputs": []
    },
    {
      "cell_type": "code",
      "metadata": {
        "id": "EVq1ceoWhKUs",
        "colab_type": "code",
        "colab": {}
      },
      "source": [
        "#여기에 전처리 + 문법단위로 자른 문장들 넣기\n",
        "sentences = [\n",
        "              ['today', 'is', 'very', 'nice', 'happy'],\n",
        "              ['I', 'am', 'very', 'sad'],\n",
        "              ['this', 'horror', 'movie', 'is', 'very', 'horror'],\n",
        "              ['I', 'am', 'so', 'tired'],\n",
        "              ['my', 'mom', 'is', 'very','angry']\n",
        "            ]"
      ],
      "execution_count": 0,
      "outputs": []
    },
    {
      "cell_type": "code",
      "metadata": {
        "id": "hIwHzAU_i2ts",
        "colab_type": "code",
        "colab": {}
      },
      "source": [
        "# 문장을 이용하여 단어와 벡터 생성\n",
        "model = word2vec.Word2Vec(sentences, size=300, window=3, min_count=1, workers=1)"
      ],
      "execution_count": 0,
      "outputs": []
    },
    {
      "cell_type": "code",
      "metadata": {
        "id": "o0XcYJa1jAD6",
        "colab_type": "code",
        "colab": {}
      },
      "source": [
        "# 단어벡터를 구하기\n",
        "word_vectors = model.wv\n",
        "\n",
        "vocabs = word_vectors.vocab.keys()\n",
        "word_vectors_list = [word_vectors[v] for v in vocabs]"
      ],
      "execution_count": 0,
      "outputs": []
    },
    {
      "cell_type": "code",
      "metadata": {
        "id": "nR-VcPVNmooq",
        "colab_type": "code",
        "colab": {}
      },
      "source": [
        "# 단어 유사도 확인\n",
        "#print(word_vectors.similarity('it', 'this')) #유사도 계산\n",
        "#word_vectors.most_similar('it') #가장 유사한 단어 출력"
      ],
      "execution_count": 0,
      "outputs": []
    },
    {
      "cell_type": "code",
      "metadata": {
        "id": "JMw3bLvslGV_",
        "colab_type": "code",
        "colab": {}
      },
      "source": [
        "from sklearn.decomposition import PCA\n",
        "pca = PCA(n_components = 2)\n",
        "xys = pca.fit_transform(word_vectors_list)\n",
        "xs = xys[:,0]\n",
        "ys = xys[:,1]"
      ],
      "execution_count": 0,
      "outputs": []
    },
    {
      "cell_type": "code",
      "metadata": {
        "id": "cZ-64QXblQIv",
        "colab_type": "code",
        "colab": {
          "base_uri": "https://localhost:8080/",
          "height": 378
        },
        "outputId": "236bfbc2-481a-4fc0-c1ac-1ba3075fa675"
      },
      "source": [
        "plot_2d_graph(vocabs, xs, ys)"
      ],
      "execution_count": 144,
      "outputs": [
        {
          "output_type": "display_data",
          "data": {
            "image/png": "[encoded data removed]",
            "text/plain": [
              "<Figure size 576x432 with 1 Axes>"
            ]
          },
          "metadata": {
            "tags": []
          }
        }
      ]
    },
    {
      "cell_type": "code",
      "metadata": {
        "id": "GS69351tteUd",
        "colab_type": "code",
        "colab": {
          "base_uri": "https://localhost:8080/",
          "height": 210
        },
        "outputId": "be5616d0-483e-48fb-e831-b5015dc73129"
      },
      "source": [
        "word = 'nice' # tf-idf로 뽑아낸, 입력한 문장에서 가장 영향력이 큰 단어\n",
        "\n",
        "result={} # 행복, 슬픔, 화남, 공포, 분노당 결과값 저장할 딕셔너리 생성\n",
        "\n",
        "result['happy'] = word_vectors.similarity(word, 'happy') #유사도 계산\n",
        "result['sad'] = word_vectors.similarity(word, 'sad') #유사도 계산\n",
        "result['horror'] = word_vectors.similarity(word, 'horror') #유사도 계산\n",
        "result['tired'] = word_vectors.similarity(word, 'tired') #유사도 계산\n",
        "result['angry'] = word_vectors.similarity(word, 'angry') #유사도 계산\n",
        "\n",
        "for key in result:\n",
        "  print(key, \":\", result[key])\n",
        "\n",
        "def find_min(x):\n",
        "  return result[x]\n",
        "\n",
        "key_min = min(result.keys(), key=(lambda k: result[k]))\n",
        "print(\"\\n\\n[Min]\",key_min,result[key_min])\n",
        "# 지금은 자료가 너무 없어서 결과가 좀 이상하게 나오는거같아요 ㅠ.ㅠ\n",
        "# 마이너스 값도 나오는데, 그거는 자료 정리한 후 넣어보고 결과봐서 얘기합시당"
      ],
      "execution_count": 151,
      "outputs": [
        {
          "output_type": "stream",
          "text": [
            "happy : 0.066170104\n",
            "sad : -0.098008886\n",
            "horror : 0.05657835\n",
            "tired : -0.08539677\n",
            "angry : -0.01911714\n",
            "\n",
            "\n",
            "[Min] sad -0.098008886\n"
          ],
          "name": "stdout"
        },
        {
          "output_type": "stream",
          "text": [
            "/usr/local/lib/python3.6/dist-packages/gensim/matutils.py:737: FutureWarning: Conversion of the second argument of issubdtype from `int` to `np.signedinteger` is deprecated. In future, it will be treated as `np.int64 == np.dtype(int).type`.\n",
            "  if np.issubdtype(vec.dtype, np.int):\n"
          ],
          "name": "stderr"
        }
      ]
    },
    {
      "cell_type": "code",
      "metadata": {
        "id": "g-gJ8-CQlV5j",
        "colab_type": "code",
        "colab": {}
      },
      "source": [
        "# 모델 저장\n",
        "#model.save('word2vec_model.model')"
      ],
      "execution_count": 0,
      "outputs": []
    }
  ]
}